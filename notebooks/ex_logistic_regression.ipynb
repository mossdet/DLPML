{
 "cells": [
  {
   "cell_type": "code",
   "execution_count": 1,
   "id": "18d32e96-b117-4e39-91f6-d76501b67488",
   "metadata": {},
   "outputs": [],
   "source": [
    "import sys\n",
    "import os\n",
    "import matplotlib.pyplot as plt\n",
    "import numpy as np\n",
    "import pandas as pd\n",
    "from dlpml.classification.logistic_regressor import LogisticRegressor"
   ]
  },
  {
   "cell_type": "markdown",
   "id": "788fb545-2e28-4d41-b2cd-39b940ea2dd1",
   "metadata": {},
   "source": [
    "# Load example dataset"
   ]
  },
  {
   "cell_type": "code",
   "execution_count": 2,
   "id": "60f4b1ec-5e94-457a-bf30-74d9eff8e63b",
   "metadata": {},
   "outputs": [],
   "source": [
    "data = pd.read_csv(\"../data/ex_logistic_regression_data2.csv\")\n",
    "X_train = data.iloc[:,0:2].to_numpy()\n",
    "y_train = data.iloc[:,2].to_numpy()"
   ]
  },
  {
   "cell_type": "markdown",
   "id": "29abaaa3-caae-493f-a947-698ba42bdcf9",
   "metadata": {},
   "source": [
    "# Use delpiml LogisticRegressor"
   ]
  },
  {
   "cell_type": "code",
   "execution_count": 3,
   "id": "8bb09918-924f-4532-a0e9-e01efaa28168",
   "metadata": {},
   "outputs": [
    {
     "name": "stdout",
     "output_type": "stream",
     "text": [
      "Iteration    0: Cost     0.83   \n",
      "Iteration 1000: Cost     0.69   \n",
      "Iteration 2000: Cost     0.69   \n",
      "Iteration 3000: Cost     0.69   \n",
      "Iteration 4000: Cost     0.69   \n",
      "Iteration 5000: Cost     0.69   \n",
      "Iteration 6000: Cost     0.69   \n",
      "Iteration 7000: Cost     0.69   \n",
      "Iteration 8000: Cost     0.69   \n",
      "Iteration 9000: Cost     0.69   \n",
      "Iteration 9999: Cost     0.69   \n",
      "Train Accuracy: 55.084746\n"
     ]
    }
   ],
   "source": [
    "model = LogisticRegressor(alpha=0.01, iterations=10*1_000, lambda_=0.01)\n",
    "model.fit(X_train, y_train)\n",
    "y_pred = model.predict(X_train)\n",
    "print('Train Accuracy: %f'%(np.mean(y_pred == y_train) * 100))"
   ]
  },
  {
   "cell_type": "markdown",
   "id": "a2b36f32-b3b7-4fa4-9e20-e635604dc4ec",
   "metadata": {},
   "source": [
    "# Map data to a higher dimensional space"
   ]
  },
  {
   "cell_type": "code",
   "execution_count": 4,
   "id": "109d397d-b381-4507-a841-cbdc1d013367",
   "metadata": {},
   "outputs": [],
   "source": [
    "def map_feature(X1, X2, degree = 6):\n",
    "    \"\"\"\n",
    "    Feature mapping function to polynomial features    \n",
    "    \"\"\"\n",
    "    X1 = np.atleast_1d(X1)\n",
    "    X2 = np.atleast_1d(X2)\n",
    "    out = []\n",
    "    for i in range(1, degree+1):\n",
    "        for j in range(i + 1):\n",
    "            out.append((X1**(i-j) * (X2**j)))\n",
    "    return np.stack(out, axis=1)"
   ]
  },
  {
   "cell_type": "code",
   "execution_count": 5,
   "id": "1e923d4e-9ad6-4a09-be5a-c06824b51311",
   "metadata": {},
   "outputs": [],
   "source": [
    "X_train = map_feature(X_train[:, 0], X_train[:, 1], degree=6)"
   ]
  },
  {
   "cell_type": "code",
   "execution_count": 6,
   "id": "4296fd26-1a75-4184-b460-a0b44acb952b",
   "metadata": {},
   "outputs": [
    {
     "name": "stdout",
     "output_type": "stream",
     "text": [
      "Iteration    0: Cost     0.88   \n",
      "Iteration 1000: Cost     0.61   \n",
      "Iteration 2000: Cost     0.58   \n",
      "Iteration 3000: Cost     0.55   \n",
      "Iteration 4000: Cost     0.53   \n",
      "Iteration 5000: Cost     0.51   \n",
      "Iteration 6000: Cost     0.49   \n",
      "Iteration 7000: Cost     0.48   \n",
      "Iteration 8000: Cost     0.47   \n",
      "Iteration 9000: Cost     0.46   \n",
      "Iteration 9999: Cost     0.45   \n",
      "Train Accuracy: 82.203390\n"
     ]
    }
   ],
   "source": [
    "model = LogisticRegressor(alpha=0.01, iterations=10*1_000, lambda_=0.01)\n",
    "model.fit(X_train, y_train)\n",
    "y_pred = model.predict(X_train)\n",
    "print('Train Accuracy: %f'%(np.mean(y_pred == y_train) * 100))"
   ]
  },
  {
   "cell_type": "code",
   "execution_count": null,
   "id": "cfba9b63-2298-4fa4-8868-b1ec84cabe23",
   "metadata": {},
   "outputs": [],
   "source": []
  }
 ],
 "metadata": {
  "kernelspec": {
   "display_name": "Python 3 (ipykernel)",
   "language": "python",
   "name": "python3"
  },
  "language_info": {
   "codemirror_mode": {
    "name": "ipython",
    "version": 3
   },
   "file_extension": ".py",
   "mimetype": "text/x-python",
   "name": "python",
   "nbconvert_exporter": "python",
   "pygments_lexer": "ipython3",
   "version": "3.12.3"
  }
 },
 "nbformat": 4,
 "nbformat_minor": 5
}
